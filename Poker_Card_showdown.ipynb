{
  "nbformat": 4,
  "nbformat_minor": 0,
  "metadata": {
    "colab": {
      "provenance": [],
      "authorship_tag": "ABX9TyPL1waxkuMclNqhNcQDf/8y",
      "include_colab_link": true
    },
    "kernelspec": {
      "name": "python3",
      "display_name": "Python 3"
    },
    "language_info": {
      "name": "python"
    }
  },
  "cells": [
    {
      "cell_type": "markdown",
      "metadata": {
        "id": "view-in-github",
        "colab_type": "text"
      },
      "source": [
        "<a href=\"https://colab.research.google.com/github/Jimin06/Poker-Showdown-26/blob/main/Poker_Card_showdown.ipynb\" target=\"_parent\"><img src=\"https://colab.research.google.com/assets/colab-badge.svg\" alt=\"Open In Colab\"/></a>"
      ]
    },
    {
      "cell_type": "code",
      "source": [
        "import random\n",
        "\n",
        "def assign_cards():\n",
        "    # 1부터 13까지의 숫자로 이루어진 카드 생성\n",
        "    cards = list(range(1, 14))\n",
        "    # 카드를 홀팀과 짝팀에 랜덤으로 할당\n",
        "    odd_team = random.sample(cards, k=13)\n",
        "    even_team = random.sample(cards, k=13)\n",
        "    return odd_team, even_team\n",
        "\n",
        "def compare_cards(card1, card2):\n",
        "    # A는 기본적으로 1로 간주\n",
        "    if card1 == 1:\n",
        "        card1 = 1\n",
        "    # K를 만나면 14로 간주하여 K를 아웃시킴\n",
        "    if card1 == 13:\n",
        "        card1 = 14\n",
        "    # 카드를 비교하여 승자를 결정\n",
        "    if card1 > card2:\n",
        "        return \"Odd Team\"\n",
        "    elif card1 < card2:\n",
        "        return \"Even Team\"\n",
        "    else:\n",
        "        return \"Tie\"\n",
        "\n",
        "def play_game():\n",
        "    # 카드 할당\n",
        "    odd_team, even_team = assign_cards()\n",
        "    # 게임 진행\n",
        "    odd_team_score = sum(odd_team)\n",
        "    even_team_score = sum(even_team)\n",
        "    for round_num in range(13):\n",
        "        print(f\"\\nRound {round_num + 1}:\")\n",
        "        print(\"Odd Team:\", odd_team)\n",
        "        print(\"Even Team:\", even_team)\n",
        "        print(\"Odd Team Score:\", odd_team_score)\n",
        "        print(\"Even Team Score:\", even_team_score)\n",
        "        # 각 팀의 차례에 따라 카드 비교\n",
        "        odd_card = odd_team.pop(0)\n",
        "        even_card = even_team.pop(0)\n",
        "        print(f\"Odd Team: Student with card {odd_card}\")\n",
        "        print(f\"Even Team: Student with card {even_card}\")\n",
        "        winner = compare_cards(odd_card, even_card)\n",
        "        if winner == \"Odd Team\":\n",
        "            even_team_score -= even_card\n",
        "        elif winner == \"Even Team\":\n",
        "            odd_team_score -= odd_card\n",
        "        print(f\"{winner} wins this round!\")\n",
        "\n",
        "    # 점수 비교하여 승자 결정\n",
        "    if odd_team_score > even_team_score:\n",
        "        return \"Odd Team\"\n",
        "    elif odd_team_score < even_team_score:\n",
        "        return \"Even Team\"\n",
        "    else:\n",
        "        return \"Tie\"\n",
        "\n",
        "# 게임 실행\n",
        "winner = play_game()\n",
        "print(f\"\\n{winner} wins the game!\")"
      ],
      "metadata": {
        "id": "BGpTBGnJAWxc"
      },
      "execution_count": null,
      "outputs": []
    }
  ]
}